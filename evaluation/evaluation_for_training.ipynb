{
 "cells": [
  {
   "cell_type": "code",
   "execution_count": 1,
   "metadata": {},
   "outputs": [
    {
     "name": "stderr",
     "output_type": "stream",
     "text": [
      "[nltk_data] Downloading package punkt to\n",
      "[nltk_data]     /Users/amanchopra/nltk_data...\n",
      "[nltk_data]   Package punkt is already up-to-date!\n"
     ]
    }
   ],
   "source": [
    "from process_sql import get_schema, Schema, get_sql\n",
    "from evaluation import build_valid_col_units, rebuild_sql_val, rebuild_sql_col, build_foreign_key_map_from_json, eval_exec_match, Evaluator\n",
    "import os, nltk\n",
    "from google.cloud import storage\n",
    "client = storage.Client()\n",
    "bucket = client.bucket(os.environ.get('COSQL_BUCKET'))\n",
    "nltk.download('punkt')\n",
    "table = \"tables.json\"\n",
    "kmaps = build_foreign_key_map_from_json(table, table_uri=True, bucket=bucket)\n",
    "db_dir =f\"../temp/db\""
   ]
  },
  {
   "cell_type": "code",
   "execution_count": 3,
   "metadata": {},
   "outputs": [],
   "source": [
    "def evaluate(gold, predict, db_dir, kmaps, bucket=None, gold_uri=False, predict_uri=False):\n",
    "    if gold_uri:\n",
    "        glist = bucket.get_blob(gold).download_as_text().split('\\n')\n",
    "    else:\n",
    "        with open(gold) as f:\n",
    "            glist = f.readlines()\n",
    "\n",
    "    glist = [l.strip().split('\\t') for l in glist if len(l.strip()) > 0]\n",
    "\n",
    "    if predict_uri:\n",
    "        plist = bucket.get_blob(predict).download_as_text().split('\\n')\n",
    "    else:\n",
    "        with open(predict) as f:\n",
    "            plist = f.readlines()\n",
    "\n",
    "    plist = [l.strip().split('\\t') for l in plist if len(l.strip()) > 0]\n",
    "\n",
    "    all = 0\n",
    "    execute = 0\n",
    "    exact = 0\n",
    "    for p, g in zip(plist, glist):\n",
    "        p_str = p[0]\n",
    "        g_str, db = g\n",
    "        db_name = db\n",
    "        db = os.path.join(db_dir, db_name + \".sqlite\")\n",
    "        schema = Schema(get_schema(db))\n",
    "        g_sql = get_sql(schema, g_str)\n",
    "        all += 1.0\n",
    "\n",
    "        try:\n",
    "            p_sql = get_sql(schema, p_str)\n",
    "        except:\n",
    "            # If p_sql is not valid, then we will use an empty sql to evaluate with the correct sql\n",
    "            p_sql = {\n",
    "            \"except\": None,\n",
    "            \"from\": {\n",
    "                \"conds\": [],\n",
    "                \"table_units\": []\n",
    "            },\n",
    "            \"groupBy\": [],\n",
    "            \"having\": [],\n",
    "            \"intersect\": None,\n",
    "            \"limit\": None,\n",
    "            \"orderBy\": [],\n",
    "            \"select\": [\n",
    "                False,\n",
    "                []\n",
    "            ],\n",
    "            \"union\": None,\n",
    "            \"where\": []\n",
    "            }\n",
    "\n",
    "        # rebuild sql for value evaluation\n",
    "        kmap = kmaps[db_name]\n",
    "        g_valid_col_units = build_valid_col_units(g_sql['from']['table_units'], schema)\n",
    "        g_sql = rebuild_sql_val(g_sql)\n",
    "        g_sql = rebuild_sql_col(g_valid_col_units, g_sql, kmap)\n",
    "        p_valid_col_units = build_valid_col_units(p_sql['from']['table_units'], schema)\n",
    "        p_sql = rebuild_sql_val(p_sql)\n",
    "        p_sql = rebuild_sql_col(p_valid_col_units, p_sql, kmap)\n",
    "\n",
    "        exec_score = eval_exec_match(db, p_str, g_str, p_sql, g_sql)\n",
    "        if exec_score:\n",
    "            execute += 1.0\n",
    "\n",
    "        evaluator = Evaluator()\n",
    "        exact_score = evaluator.eval_exact_match(p_sql, g_sql)\n",
    "        if exact_score:\n",
    "            exact += 1.0\n",
    "\n",
    "    return {\"execute\":execute/all, \"exact\": exact/all}"
   ]
  },
  {
   "cell_type": "code",
   "execution_count": 4,
   "metadata": {},
   "outputs": [
    {
     "data": {
      "text/plain": [
       "'\\ndef compute_metrics(pred):\\n    labels_ids = pred.label_ids\\n    label_dbname = pred.label_dbname # list of names of databases\\n    pred_ids = pred.predictions\\n\\n    # all unnecessary tokens are removed\\n    pred_str = tokenizer.batch_decode(pred_ids, skip_special_tokens=True)\\n    labels_ids[labels_ids == -100] = tokenizer.pad_token_id\\n    label_str = tokenizer.batch_decode(labels_ids, skip_special_tokens=True)\\n\\n    output = evaluate(label_str, pred_str, label_dbname, db_dir, kmaps)\\n\\n    return {\\n        \"execution_accuracy\": round(output[\"execute\"], 4),\\n        \"exact_matching\": round(output[\"exact\"], 4),\\n    }\\n'"
      ]
     },
     "execution_count": 4,
     "metadata": {},
     "output_type": "execute_result"
    }
   ],
   "source": [
    "# compute_metrics function should be like this:\n",
    "'''\n",
    "def compute_metrics(pred):\n",
    "    labels_ids = pred.label_ids\n",
    "    label_dbname = pred.label_dbname # list of names of databases\n",
    "    pred_ids = pred.predictions\n",
    "\n",
    "    # all unnecessary tokens are removed\n",
    "    pred_str = tokenizer.batch_decode(pred_ids, skip_special_tokens=True)\n",
    "    labels_ids[labels_ids == -100] = tokenizer.pad_token_id\n",
    "    label_str = tokenizer.batch_decode(labels_ids, skip_special_tokens=True)\n",
    "\n",
    "    output = evaluate(label_str, pred_str, label_dbname, db_dir, kmaps)\n",
    "\n",
    "    return {\n",
    "        \"execution_accuracy\": round(output[\"execute\"], 4),\n",
    "        \"exact_matching\": round(output[\"exact\"], 4),\n",
    "    }\n",
    "'''"
   ]
  }
 ],
 "metadata": {
  "kernelspec": {
   "display_name": "s23-cudsi-loreal-text2sql-o5FlSnsy-py3.8",
   "language": "python",
   "name": "python3"
  },
  "language_info": {
   "codemirror_mode": {
    "name": "ipython",
    "version": 3
   },
   "file_extension": ".py",
   "mimetype": "text/x-python",
   "name": "python",
   "nbconvert_exporter": "python",
   "pygments_lexer": "ipython3",
   "version": "3.9.16"
  },
  "orig_nbformat": 4
 },
 "nbformat": 4,
 "nbformat_minor": 2
}
